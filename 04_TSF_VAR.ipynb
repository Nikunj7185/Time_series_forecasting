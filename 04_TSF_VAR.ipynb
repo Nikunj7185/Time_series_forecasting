{
  "nbformat": 4,
  "nbformat_minor": 0,
  "metadata": {
    "colab": {
      "provenance": []
    },
    "kernelspec": {
      "name": "python3",
      "display_name": "Python 3"
    },
    "language_info": {
      "name": "python"
    }
  },
  "cells": [
    {
      "cell_type": "code",
      "execution_count": 1,
      "metadata": {
        "id": "c88O-hqPDbyf"
      },
      "outputs": [],
      "source": [
        "from statsmodels.graphics.tsaplots import plot_acf, plot_pacf\n",
        "from statsmodels.tsa.statespace.varmax import VARMAX\n",
        "from statsmodels.tsa.api import VAR\n",
        "from statsmodels.tsa.stattools import grangercausalitytests, adfuller\n",
        "from tqdm import tqdm_notebook\n",
        "from itertools import product\n",
        "\n",
        "import matplotlib.pyplot as plt\n",
        "import statsmodels.api as sm\n",
        "import pandas as pd\n",
        "import numpy as np"
      ]
    },
    {
      "cell_type": "code",
      "source": [
        "path = 'https://raw.githubusercontent.com/selva86/datasets/master/Raotbl6.csv'\n",
        "df = pd.read_csv(path, parse_dates=['date'], index_col='date')\n",
        "print(df.shape)\n",
        "df.head()"
      ],
      "metadata": {
        "colab": {
          "base_uri": "https://localhost:8080/",
          "height": 256
        },
        "id": "rPDElM1-D6ja",
        "outputId": "b02bb97d-63bd-49a5-d633-183f8f335ead"
      },
      "execution_count": 2,
      "outputs": [
        {
          "output_type": "stream",
          "name": "stdout",
          "text": [
            "(123, 8)\n"
          ]
        },
        {
          "output_type": "execute_result",
          "data": {
            "text/plain": [
              "              rgnp    pgnp   ulc  gdfco   gdf  gdfim  gdfcf  gdfce\n",
              "date                                                              \n",
              "1959-01-01  1606.4  1608.3  47.5   36.9  37.4   26.9   32.3   23.1\n",
              "1959-04-01  1637.0  1622.2  47.5   37.4  37.5   27.0   32.2   23.4\n",
              "1959-07-01  1629.5  1636.2  48.7   37.6  37.6   27.1   32.4   23.4\n",
              "1959-10-01  1643.4  1650.3  48.8   37.7  37.8   27.1   32.5   23.8\n",
              "1960-01-01  1671.6  1664.6  49.1   37.8  37.8   27.2   32.4   23.8"
            ],
            "text/html": [
              "\n",
              "  <div id=\"df-2c125fcd-d17d-4ca6-b3cf-2690ab0231cb\" class=\"colab-df-container\">\n",
              "    <div>\n",
              "<style scoped>\n",
              "    .dataframe tbody tr th:only-of-type {\n",
              "        vertical-align: middle;\n",
              "    }\n",
              "\n",
              "    .dataframe tbody tr th {\n",
              "        vertical-align: top;\n",
              "    }\n",
              "\n",
              "    .dataframe thead th {\n",
              "        text-align: right;\n",
              "    }\n",
              "</style>\n",
              "<table border=\"1\" class=\"dataframe\">\n",
              "  <thead>\n",
              "    <tr style=\"text-align: right;\">\n",
              "      <th></th>\n",
              "      <th>rgnp</th>\n",
              "      <th>pgnp</th>\n",
              "      <th>ulc</th>\n",
              "      <th>gdfco</th>\n",
              "      <th>gdf</th>\n",
              "      <th>gdfim</th>\n",
              "      <th>gdfcf</th>\n",
              "      <th>gdfce</th>\n",
              "    </tr>\n",
              "    <tr>\n",
              "      <th>date</th>\n",
              "      <th></th>\n",
              "      <th></th>\n",
              "      <th></th>\n",
              "      <th></th>\n",
              "      <th></th>\n",
              "      <th></th>\n",
              "      <th></th>\n",
              "      <th></th>\n",
              "    </tr>\n",
              "  </thead>\n",
              "  <tbody>\n",
              "    <tr>\n",
              "      <th>1959-01-01</th>\n",
              "      <td>1606.4</td>\n",
              "      <td>1608.3</td>\n",
              "      <td>47.5</td>\n",
              "      <td>36.9</td>\n",
              "      <td>37.4</td>\n",
              "      <td>26.9</td>\n",
              "      <td>32.3</td>\n",
              "      <td>23.1</td>\n",
              "    </tr>\n",
              "    <tr>\n",
              "      <th>1959-04-01</th>\n",
              "      <td>1637.0</td>\n",
              "      <td>1622.2</td>\n",
              "      <td>47.5</td>\n",
              "      <td>37.4</td>\n",
              "      <td>37.5</td>\n",
              "      <td>27.0</td>\n",
              "      <td>32.2</td>\n",
              "      <td>23.4</td>\n",
              "    </tr>\n",
              "    <tr>\n",
              "      <th>1959-07-01</th>\n",
              "      <td>1629.5</td>\n",
              "      <td>1636.2</td>\n",
              "      <td>48.7</td>\n",
              "      <td>37.6</td>\n",
              "      <td>37.6</td>\n",
              "      <td>27.1</td>\n",
              "      <td>32.4</td>\n",
              "      <td>23.4</td>\n",
              "    </tr>\n",
              "    <tr>\n",
              "      <th>1959-10-01</th>\n",
              "      <td>1643.4</td>\n",
              "      <td>1650.3</td>\n",
              "      <td>48.8</td>\n",
              "      <td>37.7</td>\n",
              "      <td>37.8</td>\n",
              "      <td>27.1</td>\n",
              "      <td>32.5</td>\n",
              "      <td>23.8</td>\n",
              "    </tr>\n",
              "    <tr>\n",
              "      <th>1960-01-01</th>\n",
              "      <td>1671.6</td>\n",
              "      <td>1664.6</td>\n",
              "      <td>49.1</td>\n",
              "      <td>37.8</td>\n",
              "      <td>37.8</td>\n",
              "      <td>27.2</td>\n",
              "      <td>32.4</td>\n",
              "      <td>23.8</td>\n",
              "    </tr>\n",
              "  </tbody>\n",
              "</table>\n",
              "</div>\n",
              "    <div class=\"colab-df-buttons\">\n",
              "\n",
              "  <div class=\"colab-df-container\">\n",
              "    <button class=\"colab-df-convert\" onclick=\"convertToInteractive('df-2c125fcd-d17d-4ca6-b3cf-2690ab0231cb')\"\n",
              "            title=\"Convert this dataframe to an interactive table.\"\n",
              "            style=\"display:none;\">\n",
              "\n",
              "  <svg xmlns=\"http://www.w3.org/2000/svg\" height=\"24px\" viewBox=\"0 -960 960 960\">\n",
              "    <path d=\"M120-120v-720h720v720H120Zm60-500h600v-160H180v160Zm220 220h160v-160H400v160Zm0 220h160v-160H400v160ZM180-400h160v-160H180v160Zm440 0h160v-160H620v160ZM180-180h160v-160H180v160Zm440 0h160v-160H620v160Z\"/>\n",
              "  </svg>\n",
              "    </button>\n",
              "\n",
              "  <style>\n",
              "    .colab-df-container {\n",
              "      display:flex;\n",
              "      gap: 12px;\n",
              "    }\n",
              "\n",
              "    .colab-df-convert {\n",
              "      background-color: #E8F0FE;\n",
              "      border: none;\n",
              "      border-radius: 50%;\n",
              "      cursor: pointer;\n",
              "      display: none;\n",
              "      fill: #1967D2;\n",
              "      height: 32px;\n",
              "      padding: 0 0 0 0;\n",
              "      width: 32px;\n",
              "    }\n",
              "\n",
              "    .colab-df-convert:hover {\n",
              "      background-color: #E2EBFA;\n",
              "      box-shadow: 0px 1px 2px rgba(60, 64, 67, 0.3), 0px 1px 3px 1px rgba(60, 64, 67, 0.15);\n",
              "      fill: #174EA6;\n",
              "    }\n",
              "\n",
              "    .colab-df-buttons div {\n",
              "      margin-bottom: 4px;\n",
              "    }\n",
              "\n",
              "    [theme=dark] .colab-df-convert {\n",
              "      background-color: #3B4455;\n",
              "      fill: #D2E3FC;\n",
              "    }\n",
              "\n",
              "    [theme=dark] .colab-df-convert:hover {\n",
              "      background-color: #434B5C;\n",
              "      box-shadow: 0px 1px 3px 1px rgba(0, 0, 0, 0.15);\n",
              "      filter: drop-shadow(0px 1px 2px rgba(0, 0, 0, 0.3));\n",
              "      fill: #FFFFFF;\n",
              "    }\n",
              "  </style>\n",
              "\n",
              "    <script>\n",
              "      const buttonEl =\n",
              "        document.querySelector('#df-2c125fcd-d17d-4ca6-b3cf-2690ab0231cb button.colab-df-convert');\n",
              "      buttonEl.style.display =\n",
              "        google.colab.kernel.accessAllowed ? 'block' : 'none';\n",
              "\n",
              "      async function convertToInteractive(key) {\n",
              "        const element = document.querySelector('#df-2c125fcd-d17d-4ca6-b3cf-2690ab0231cb');\n",
              "        const dataTable =\n",
              "          await google.colab.kernel.invokeFunction('convertToInteractive',\n",
              "                                                    [key], {});\n",
              "        if (!dataTable) return;\n",
              "\n",
              "        const docLinkHtml = 'Like what you see? Visit the ' +\n",
              "          '<a target=\"_blank\" href=https://colab.research.google.com/notebooks/data_table.ipynb>data table notebook</a>'\n",
              "          + ' to learn more about interactive tables.';\n",
              "        element.innerHTML = '';\n",
              "        dataTable['output_type'] = 'display_data';\n",
              "        await google.colab.output.renderOutput(dataTable, element);\n",
              "        const docLink = document.createElement('div');\n",
              "        docLink.innerHTML = docLinkHtml;\n",
              "        element.appendChild(docLink);\n",
              "      }\n",
              "    </script>\n",
              "  </div>\n",
              "\n",
              "\n",
              "<div id=\"df-f6e92a1c-bcd9-4696-8641-d8dee764f7c7\">\n",
              "  <button class=\"colab-df-quickchart\" onclick=\"quickchart('df-f6e92a1c-bcd9-4696-8641-d8dee764f7c7')\"\n",
              "            title=\"Suggest charts\"\n",
              "            style=\"display:none;\">\n",
              "\n",
              "<svg xmlns=\"http://www.w3.org/2000/svg\" height=\"24px\"viewBox=\"0 0 24 24\"\n",
              "     width=\"24px\">\n",
              "    <g>\n",
              "        <path d=\"M19 3H5c-1.1 0-2 .9-2 2v14c0 1.1.9 2 2 2h14c1.1 0 2-.9 2-2V5c0-1.1-.9-2-2-2zM9 17H7v-7h2v7zm4 0h-2V7h2v10zm4 0h-2v-4h2v4z\"/>\n",
              "    </g>\n",
              "</svg>\n",
              "  </button>\n",
              "\n",
              "<style>\n",
              "  .colab-df-quickchart {\n",
              "      --bg-color: #E8F0FE;\n",
              "      --fill-color: #1967D2;\n",
              "      --hover-bg-color: #E2EBFA;\n",
              "      --hover-fill-color: #174EA6;\n",
              "      --disabled-fill-color: #AAA;\n",
              "      --disabled-bg-color: #DDD;\n",
              "  }\n",
              "\n",
              "  [theme=dark] .colab-df-quickchart {\n",
              "      --bg-color: #3B4455;\n",
              "      --fill-color: #D2E3FC;\n",
              "      --hover-bg-color: #434B5C;\n",
              "      --hover-fill-color: #FFFFFF;\n",
              "      --disabled-bg-color: #3B4455;\n",
              "      --disabled-fill-color: #666;\n",
              "  }\n",
              "\n",
              "  .colab-df-quickchart {\n",
              "    background-color: var(--bg-color);\n",
              "    border: none;\n",
              "    border-radius: 50%;\n",
              "    cursor: pointer;\n",
              "    display: none;\n",
              "    fill: var(--fill-color);\n",
              "    height: 32px;\n",
              "    padding: 0;\n",
              "    width: 32px;\n",
              "  }\n",
              "\n",
              "  .colab-df-quickchart:hover {\n",
              "    background-color: var(--hover-bg-color);\n",
              "    box-shadow: 0 1px 2px rgba(60, 64, 67, 0.3), 0 1px 3px 1px rgba(60, 64, 67, 0.15);\n",
              "    fill: var(--button-hover-fill-color);\n",
              "  }\n",
              "\n",
              "  .colab-df-quickchart-complete:disabled,\n",
              "  .colab-df-quickchart-complete:disabled:hover {\n",
              "    background-color: var(--disabled-bg-color);\n",
              "    fill: var(--disabled-fill-color);\n",
              "    box-shadow: none;\n",
              "  }\n",
              "\n",
              "  .colab-df-spinner {\n",
              "    border: 2px solid var(--fill-color);\n",
              "    border-color: transparent;\n",
              "    border-bottom-color: var(--fill-color);\n",
              "    animation:\n",
              "      spin 1s steps(1) infinite;\n",
              "  }\n",
              "\n",
              "  @keyframes spin {\n",
              "    0% {\n",
              "      border-color: transparent;\n",
              "      border-bottom-color: var(--fill-color);\n",
              "      border-left-color: var(--fill-color);\n",
              "    }\n",
              "    20% {\n",
              "      border-color: transparent;\n",
              "      border-left-color: var(--fill-color);\n",
              "      border-top-color: var(--fill-color);\n",
              "    }\n",
              "    30% {\n",
              "      border-color: transparent;\n",
              "      border-left-color: var(--fill-color);\n",
              "      border-top-color: var(--fill-color);\n",
              "      border-right-color: var(--fill-color);\n",
              "    }\n",
              "    40% {\n",
              "      border-color: transparent;\n",
              "      border-right-color: var(--fill-color);\n",
              "      border-top-color: var(--fill-color);\n",
              "    }\n",
              "    60% {\n",
              "      border-color: transparent;\n",
              "      border-right-color: var(--fill-color);\n",
              "    }\n",
              "    80% {\n",
              "      border-color: transparent;\n",
              "      border-right-color: var(--fill-color);\n",
              "      border-bottom-color: var(--fill-color);\n",
              "    }\n",
              "    90% {\n",
              "      border-color: transparent;\n",
              "      border-bottom-color: var(--fill-color);\n",
              "    }\n",
              "  }\n",
              "</style>\n",
              "\n",
              "  <script>\n",
              "    async function quickchart(key) {\n",
              "      const quickchartButtonEl =\n",
              "        document.querySelector('#' + key + ' button');\n",
              "      quickchartButtonEl.disabled = true;  // To prevent multiple clicks.\n",
              "      quickchartButtonEl.classList.add('colab-df-spinner');\n",
              "      try {\n",
              "        const charts = await google.colab.kernel.invokeFunction(\n",
              "            'suggestCharts', [key], {});\n",
              "      } catch (error) {\n",
              "        console.error('Error during call to suggestCharts:', error);\n",
              "      }\n",
              "      quickchartButtonEl.classList.remove('colab-df-spinner');\n",
              "      quickchartButtonEl.classList.add('colab-df-quickchart-complete');\n",
              "    }\n",
              "    (() => {\n",
              "      let quickchartButtonEl =\n",
              "        document.querySelector('#df-f6e92a1c-bcd9-4696-8641-d8dee764f7c7 button');\n",
              "      quickchartButtonEl.style.display =\n",
              "        google.colab.kernel.accessAllowed ? 'block' : 'none';\n",
              "    })();\n",
              "  </script>\n",
              "</div>\n",
              "\n",
              "    </div>\n",
              "  </div>\n"
            ],
            "application/vnd.google.colaboratory.intrinsic+json": {
              "type": "dataframe",
              "variable_name": "df",
              "summary": "{\n  \"name\": \"df\",\n  \"rows\": 123,\n  \"fields\": [\n    {\n      \"column\": \"date\",\n      \"properties\": {\n        \"dtype\": \"date\",\n        \"min\": \"1959-01-01 00:00:00\",\n        \"max\": \"1989-07-01 00:00:00\",\n        \"num_unique_values\": 123,\n        \"samples\": [\n          \"1963-07-01 00:00:00\",\n          \"1970-04-01 00:00:00\",\n          \"1970-10-01 00:00:00\"\n        ],\n        \"semantic_type\": \"\",\n        \"description\": \"\"\n      }\n    },\n    {\n      \"column\": \"rgnp\",\n      \"properties\": {\n        \"dtype\": \"number\",\n        \"std\": 702.4423303396647,\n        \"min\": 1606.4,\n        \"max\": 4162.9,\n        \"num_unique_values\": 123,\n        \"samples\": [\n          1892.5,\n          2406.5,\n          2413.8\n        ],\n        \"semantic_type\": \"\",\n        \"description\": \"\"\n      }\n    },\n    {\n      \"column\": \"pgnp\",\n      \"properties\": {\n        \"dtype\": \"number\",\n        \"std\": 735.0286794224453,\n        \"min\": 1608.3,\n        \"max\": 4068.4,\n        \"num_unique_values\": 123,\n        \"samples\": [\n          1877.8,\n          2385.5,\n          2428.6\n        ],\n        \"semantic_type\": \"\",\n        \"description\": \"\"\n      }\n    },\n    {\n      \"column\": \"ulc\",\n      \"properties\": {\n        \"dtype\": \"number\",\n        \"std\": 47.743733533278004,\n        \"min\": 47.5,\n        \"max\": 187.4,\n        \"num_unique_values\": 111,\n        \"samples\": [\n          145.2,\n          50.4,\n          49.6\n        ],\n        \"semantic_type\": \"\",\n        \"description\": \"\"\n      }\n    },\n    {\n      \"column\": \"gdfco\",\n      \"properties\": {\n        \"dtype\": \"number\",\n        \"std\": 31.72499593674456,\n        \"min\": 36.9,\n        \"max\": 137.2,\n        \"num_unique_values\": 115,\n        \"samples\": [\n          91.1,\n          37.8,\n          48.3\n        ],\n        \"semantic_type\": \"\",\n        \"description\": \"\"\n      }\n    },\n    {\n      \"column\": \"gdf\",\n      \"properties\": {\n        \"dtype\": \"number\",\n        \"std\": 30.188260293964763,\n        \"min\": 37.4,\n        \"max\": 130.2,\n        \"num_unique_values\": 118,\n        \"samples\": [\n          56.4,\n          100.7,\n          38.0\n        ],\n        \"semantic_type\": \"\",\n        \"description\": \"\"\n      }\n    },\n    {\n      \"column\": \"gdfim\",\n      \"properties\": {\n        \"dtype\": \"number\",\n        \"std\": 31.086506649055043,\n        \"min\": 26.6,\n        \"max\": 111.1,\n        \"num_unique_values\": 97,\n        \"samples\": [\n          75.8,\n          41.8,\n          107.3\n        ],\n        \"semantic_type\": \"\",\n        \"description\": \"\"\n      }\n    },\n    {\n      \"column\": \"gdfcf\",\n      \"properties\": {\n        \"dtype\": \"number\",\n        \"std\": 31.64004362179638,\n        \"min\": 32.2,\n        \"max\": 129.9,\n        \"num_unique_values\": 112,\n        \"samples\": [\n          44.5,\n          71.1,\n          32.8\n        ],\n        \"semantic_type\": \"\",\n        \"description\": \"\"\n      }\n    },\n    {\n      \"column\": \"gdfce\",\n      \"properties\": {\n        \"dtype\": \"number\",\n        \"std\": 31.60063963218574,\n        \"min\": 23.1,\n        \"max\": 104.5,\n        \"num_unique_values\": 96,\n        \"samples\": [\n          101.6,\n          102.3,\n          99.3\n        ],\n        \"semantic_type\": \"\",\n        \"description\": \"\"\n      }\n    }\n  ]\n}"
            }
          },
          "metadata": {},
          "execution_count": 2
        }
      ]
    },
    {
      "cell_type": "code",
      "source": [
        "fig,axes=plt.subplots(nrows=4,ncols=2,figsize=(12,6),dpi=120)\n",
        "for i,ax in enumerate(axes.flatten()):\n",
        "  data=df[df.columns[i]]\n",
        "  ax.plot(data,color='red',linewidth=1)\n",
        "  ax.tick_params(axis='both',labelsize=6)\n",
        "  ax.set_ylabel(df.columns[i],fontsize=8)"
      ],
      "metadata": {
        "colab": {
          "base_uri": "https://localhost:8080/",
          "height": 487
        },
        "id": "niqVIpB5EGn7",
        "outputId": "bb2f7a26-902d-4a48-cad6-6c2974e1ae66"
      },
      "execution_count": 4,
      "outputs": [
        {
          "output_type": "display_data",
          "data": {
            "text/plain": [
              "<Figure size 1440x720 with 8 Axes>"
            ],
            "image/png": "[encoded data removed]"
          },
          "metadata": {}
        }
      ]
    },
    {
      "cell_type": "code",
      "source": [
        "adf_fuller_1=adfuller(df['rgnp'])\n",
        "adf_fuller_2=adfuller(df['ulc'])\n",
        "print(adf_fuller_1[1])\n",
        "print(adf_fuller_2[1])"
      ],
      "metadata": {
        "colab": {
          "base_uri": "https://localhost:8080/"
        },
        "id": "zQw5GC0MFWeD",
        "outputId": "7b487483-9501-491c-8850-ea9b1609a046"
      },
      "execution_count": 6,
      "outputs": [
        {
          "output_type": "stream",
          "name": "stdout",
          "text": [
            "0.9886037114305949\n",
            "0.9970991728829679\n"
          ]
        }
      ]
    },
    {
      "cell_type": "code",
      "source": [
        "adf_fuller_1=adfuller(df['rgnp'].diff()[1:])\n",
        "adf_fuller_2=adfuller(df['ulc'].diff()[1:])\n",
        "print(adf_fuller_1[1])\n",
        "print(adf_fuller_2[1])"
      ],
      "metadata": {
        "colab": {
          "base_uri": "https://localhost:8080/"
        },
        "id": "HBbVclNdF8xq",
        "outputId": "e78c68e0-fc89-49f6-da16-4da8c9b2ff21"
      },
      "execution_count": 7,
      "outputs": [
        {
          "output_type": "stream",
          "name": "stdout",
          "text": [
            "2.9633019848469254e-06\n",
            "0.006235131830238172\n"
          ]
        }
      ]
    },
    {
      "cell_type": "code",
      "source": [
        "print('\\nrqnp causes uls ?\\n')\n",
        "granger1=grangercausalitytests(df[['rgnp','ulc']],maxlag=4)\n",
        "print('\\nuls causes rqnp ?\\n')\n",
        "granger2=grangercausalitytests(df[['ulc','rgnp']].diff()[1:],maxlag=4)"
      ],
      "metadata": {
        "colab": {
          "base_uri": "https://localhost:8080/"
        },
        "id": "S63bv_uAGRlK",
        "outputId": "e687989f-ca50-4a37-d688-d22bd5178379"
      },
      "execution_count": 11,
      "outputs": [
        {
          "output_type": "stream",
          "name": "stdout",
          "text": [
            "\n",
            "rqnp causes uls ?\n",
            "\n",
            "\n",
            "Granger Causality\n",
            "number of lags (no zero) 1\n",
            "ssr based F test:         F=0.3729  , p=0.5426  , df_denom=119, df_num=1\n",
            "ssr based chi2 test:   chi2=0.3823  , p=0.5364  , df=1\n",
            "likelihood ratio test: chi2=0.3817  , p=0.5367  , df=1\n",
            "parameter F test:         F=0.3729  , p=0.5426  , df_denom=119, df_num=1\n",
            "\n",
            "Granger Causality\n",
            "number of lags (no zero) 2\n",
            "ssr based F test:         F=4.6201  , p=0.0117  , df_denom=116, df_num=2\n",
            "ssr based chi2 test:   chi2=9.6386  , p=0.0081  , df=2\n",
            "likelihood ratio test: chi2=9.2739  , p=0.0097  , df=2\n",
            "parameter F test:         F=4.6201  , p=0.0117  , df_denom=116, df_num=2\n",
            "\n",
            "Granger Causality\n",
            "number of lags (no zero) 3\n",
            "ssr based F test:         F=4.0976  , p=0.0084  , df_denom=113, df_num=3\n",
            "ssr based chi2 test:   chi2=13.0544 , p=0.0045  , df=3\n",
            "likelihood ratio test: chi2=12.3920 , p=0.0062  , df=3\n",
            "parameter F test:         F=4.0976  , p=0.0084  , df_denom=113, df_num=3\n",
            "\n",
            "Granger Causality\n",
            "number of lags (no zero) 4\n",
            "ssr based F test:         F=5.4664  , p=0.0005  , df_denom=110, df_num=4\n",
            "ssr based chi2 test:   chi2=23.6547 , p=0.0001  , df=4\n",
            "likelihood ratio test: chi2=21.5751 , p=0.0002  , df=4\n",
            "parameter F test:         F=5.4664  , p=0.0005  , df_denom=110, df_num=4\n",
            "\n",
            "uls causes rqnp ?\n",
            "\n",
            "\n",
            "Granger Causality\n",
            "number of lags (no zero) 1\n",
            "ssr based F test:         F=12.2209 , p=0.0007  , df_denom=118, df_num=1\n",
            "ssr based chi2 test:   chi2=12.5316 , p=0.0004  , df=1\n",
            "likelihood ratio test: chi2=11.9243 , p=0.0006  , df=1\n",
            "parameter F test:         F=12.2209 , p=0.0007  , df_denom=118, df_num=1\n",
            "\n",
            "Granger Causality\n",
            "number of lags (no zero) 2\n",
            "ssr based F test:         F=10.0795 , p=0.0001  , df_denom=115, df_num=2\n",
            "ssr based chi2 test:   chi2=21.0355 , p=0.0000  , df=2\n",
            "likelihood ratio test: chi2=19.3824 , p=0.0001  , df=2\n",
            "parameter F test:         F=10.0795 , p=0.0001  , df_denom=115, df_num=2\n",
            "\n",
            "Granger Causality\n",
            "number of lags (no zero) 3\n",
            "ssr based F test:         F=9.6685  , p=0.0000  , df_denom=112, df_num=3\n",
            "ssr based chi2 test:   chi2=30.8182 , p=0.0000  , df=3\n",
            "likelihood ratio test: chi2=27.4056 , p=0.0000  , df=3\n",
            "parameter F test:         F=9.6685  , p=0.0000  , df_denom=112, df_num=3\n",
            "\n",
            "Granger Causality\n",
            "number of lags (no zero) 4\n",
            "ssr based F test:         F=7.8197  , p=0.0000  , df_denom=109, df_num=4\n",
            "ssr based chi2 test:   chi2=33.8615 , p=0.0000  , df=4\n",
            "likelihood ratio test: chi2=29.7696 , p=0.0000  , df=4\n",
            "parameter F test:         F=7.8197  , p=0.0000  , df_denom=109, df_num=4\n"
          ]
        }
      ]
    },
    {
      "cell_type": "code",
      "source": [
        " df.shape"
      ],
      "metadata": {
        "colab": {
          "base_uri": "https://localhost:8080/"
        },
        "id": "2eUOPnVXGlp8",
        "outputId": "7c793cd2-8f66-4b97-c0a5-8fc0c7c77307"
      },
      "execution_count": 12,
      "outputs": [
        {
          "output_type": "execute_result",
          "data": {
            "text/plain": [
              "(123, 8)"
            ]
          },
          "metadata": {},
          "execution_count": 12
        }
      ]
    },
    {
      "cell_type": "code",
      "source": [
        "df=df[['rgnp','ulc']]"
      ],
      "metadata": {
        "id": "8fJumA8JINLc"
      },
      "execution_count": 18,
      "outputs": []
    },
    {
      "cell_type": "code",
      "source": [
        "train=df.iloc[:-12]\n",
        "test=df.iloc[-12:]\n",
        "test.shape"
      ],
      "metadata": {
        "colab": {
          "base_uri": "https://localhost:8080/"
        },
        "id": "_DEb6Bn6HbfC",
        "outputId": "5cfab683-bdfa-4de0-9403-9f55f07fe580"
      },
      "execution_count": 19,
      "outputs": [
        {
          "output_type": "execute_result",
          "data": {
            "text/plain": [
              "(12, 2)"
            ]
          },
          "metadata": {},
          "execution_count": 19
        }
      ]
    },
    {
      "cell_type": "code",
      "source": [
        "model=VAR(train.diff()[1:])\n",
        "x=model.select_order(maxlags=20)\n",
        "x.summary()"
      ],
      "metadata": {
        "colab": {
          "base_uri": "https://localhost:8080/",
          "height": 575
        },
        "id": "9nHaXXQ6HhgK",
        "outputId": "797f892d-ad80-4dc6-eb57-34e3789de201"
      },
      "execution_count": 20,
      "outputs": [
        {
          "output_type": "stream",
          "name": "stderr",
          "text": [
            "/usr/local/lib/python3.10/dist-packages/statsmodels/tsa/base/tsa_model.py:473: ValueWarning: No frequency information was provided, so inferred frequency QS-OCT will be used.\n",
            "  self._init_dates(dates, freq)\n"
          ]
        },
        {
          "output_type": "execute_result",
          "data": {
            "text/plain": [
              "<class 'statsmodels.iolib.table.SimpleTable'>"
            ],
            "text/html": [
              "<table class=\"simpletable\">\n",
              "<caption>VAR Order Selection (* highlights the minimums)</caption>\n",
              "<tr>\n",
              "   <td></td>      <th>AIC</th>         <th>BIC</th>         <th>FPE</th>        <th>HQIC</th>    \n",
              "</tr>\n",
              "<tr>\n",
              "  <th>0</th>  <td>     6.778</td>  <td>     6.834</td>  <td>     878.3</td>  <td>     6.800</td> \n",
              "</tr>\n",
              "<tr>\n",
              "  <th>1</th>  <td>     5.988</td>  <td>     6.154*</td> <td>     398.5</td>  <td>     6.055</td> \n",
              "</tr>\n",
              "<tr>\n",
              "  <th>2</th>  <td>     5.942</td>  <td>     6.220</td>  <td>     380.9</td>  <td>     6.054</td> \n",
              "</tr>\n",
              "<tr>\n",
              "  <th>3</th>  <td>     5.933</td>  <td>     6.322</td>  <td>     377.4</td>  <td>     6.090</td> \n",
              "</tr>\n",
              "<tr>\n",
              "  <th>4</th>  <td>     5.793*</td> <td>     6.293</td>  <td>     328.5*</td> <td>     5.995*</td>\n",
              "</tr>\n",
              "<tr>\n",
              "  <th>5</th>  <td>     5.873</td>  <td>     6.484</td>  <td>     356.3</td>  <td>     6.120</td> \n",
              "</tr>\n",
              "<tr>\n",
              "  <th>6</th>  <td>     5.828</td>  <td>     6.550</td>  <td>     341.1</td>  <td>     6.119</td> \n",
              "</tr>\n",
              "<tr>\n",
              "  <th>7</th>  <td>     5.894</td>  <td>     6.727</td>  <td>     365.0</td>  <td>     6.230</td> \n",
              "</tr>\n",
              "<tr>\n",
              "  <th>8</th>  <td>     5.890</td>  <td>     6.835</td>  <td>     364.8</td>  <td>     6.271</td> \n",
              "</tr>\n",
              "<tr>\n",
              "  <th>9</th>  <td>     5.942</td>  <td>     6.998</td>  <td>     385.8</td>  <td>     6.368</td> \n",
              "</tr>\n",
              "<tr>\n",
              "  <th>10</th> <td>     5.930</td>  <td>     7.097</td>  <td>     382.9</td>  <td>     6.401</td> \n",
              "</tr>\n",
              "<tr>\n",
              "  <th>11</th> <td>     5.913</td>  <td>     7.191</td>  <td>     378.5</td>  <td>     6.428</td> \n",
              "</tr>\n",
              "<tr>\n",
              "  <th>12</th> <td>     5.885</td>  <td>     7.274</td>  <td>     370.7</td>  <td>     6.445</td> \n",
              "</tr>\n",
              "<tr>\n",
              "  <th>13</th> <td>     5.925</td>  <td>     7.424</td>  <td>     388.6</td>  <td>     6.529</td> \n",
              "</tr>\n",
              "<tr>\n",
              "  <th>14</th> <td>     5.882</td>  <td>     7.493</td>  <td>     376.0</td>  <td>     6.532</td> \n",
              "</tr>\n",
              "<tr>\n",
              "  <th>15</th> <td>     5.950</td>  <td>     7.672</td>  <td>     406.9</td>  <td>     6.644</td> \n",
              "</tr>\n",
              "<tr>\n",
              "  <th>16</th> <td>     5.933</td>  <td>     7.766</td>  <td>     405.3</td>  <td>     6.672</td> \n",
              "</tr>\n",
              "<tr>\n",
              "  <th>17</th> <td>     5.947</td>  <td>     7.891</td>  <td>     417.1</td>  <td>     6.731</td> \n",
              "</tr>\n",
              "<tr>\n",
              "  <th>18</th> <td>     5.935</td>  <td>     7.990</td>  <td>     419.2</td>  <td>     6.764</td> \n",
              "</tr>\n",
              "<tr>\n",
              "  <th>19</th> <td>     5.964</td>  <td>     8.130</td>  <td>     439.9</td>  <td>     6.838</td> \n",
              "</tr>\n",
              "<tr>\n",
              "  <th>20</th> <td>     5.955</td>  <td>     8.233</td>  <td>     445.6</td>  <td>     6.873</td> \n",
              "</tr>\n",
              "</table>"
            ],
            "text/latex": "\\begin{center}\n\\begin{tabular}{lcccc}\n\\toprule\n            & \\textbf{AIC} & \\textbf{BIC} & \\textbf{FPE} & \\textbf{HQIC}  \\\\\n\\midrule\n\\textbf{0}  &       6.778  &       6.834  &       878.3  &        6.800   \\\\\n\\textbf{1}  &       5.988  &      6.154*  &       398.5  &        6.055   \\\\\n\\textbf{2}  &       5.942  &       6.220  &       380.9  &        6.054   \\\\\n\\textbf{3}  &       5.933  &       6.322  &       377.4  &        6.090   \\\\\n\\textbf{4}  &      5.793*  &       6.293  &      328.5*  &       5.995*   \\\\\n\\textbf{5}  &       5.873  &       6.484  &       356.3  &        6.120   \\\\\n\\textbf{6}  &       5.828  &       6.550  &       341.1  &        6.119   \\\\\n\\textbf{7}  &       5.894  &       6.727  &       365.0  &        6.230   \\\\\n\\textbf{8}  &       5.890  &       6.835  &       364.8  &        6.271   \\\\\n\\textbf{9}  &       5.942  &       6.998  &       385.8  &        6.368   \\\\\n\\textbf{10} &       5.930  &       7.097  &       382.9  &        6.401   \\\\\n\\textbf{11} &       5.913  &       7.191  &       378.5  &        6.428   \\\\\n\\textbf{12} &       5.885  &       7.274  &       370.7  &        6.445   \\\\\n\\textbf{13} &       5.925  &       7.424  &       388.6  &        6.529   \\\\\n\\textbf{14} &       5.882  &       7.493  &       376.0  &        6.532   \\\\\n\\textbf{15} &       5.950  &       7.672  &       406.9  &        6.644   \\\\\n\\textbf{16} &       5.933  &       7.766  &       405.3  &        6.672   \\\\\n\\textbf{17} &       5.947  &       7.891  &       417.1  &        6.731   \\\\\n\\textbf{18} &       5.935  &       7.990  &       419.2  &        6.764   \\\\\n\\textbf{19} &       5.964  &       8.130  &       439.9  &        6.838   \\\\\n\\textbf{20} &       5.955  &       8.233  &       445.6  &        6.873   \\\\\n\\bottomrule\n\\end{tabular}\n%\\caption{VAR Order Selection (* highlights the minimums)}\n\\end{center}"
          },
          "metadata": {},
          "execution_count": 20
        }
      ]
    },
    {
      "cell_type": "code",
      "source": [
        "var_model=VARMAX(train,order=(4,0),enforce_stationarity=True)\n",
        "model=var_model.fit(disp=False)\n",
        "print(model.summary())"
      ],
      "metadata": {
        "colab": {
          "base_uri": "https://localhost:8080/"
        },
        "id": "F8cZati8H6sS",
        "outputId": "b178c972-1233-472f-e5eb-ca6d46982658"
      },
      "execution_count": 21,
      "outputs": [
        {
          "output_type": "stream",
          "name": "stderr",
          "text": [
            "/usr/local/lib/python3.10/dist-packages/statsmodels/tsa/base/tsa_model.py:473: ValueWarning: No frequency information was provided, so inferred frequency QS-OCT will be used.\n",
            "  self._init_dates(dates, freq)\n",
            "/usr/local/lib/python3.10/dist-packages/statsmodels/tsa/statespace/varmax.py:373: UserWarning: Non-stationary starting autoregressive parameters found. Using zeros as starting parameters.\n",
            "  warn('Non-stationary starting autoregressive parameters'\n"
          ]
        },
        {
          "output_type": "stream",
          "name": "stdout",
          "text": [
            "                           Statespace Model Results                           \n",
            "==============================================================================\n",
            "Dep. Variable:        ['rgnp', 'ulc']   No. Observations:                  111\n",
            "Model:                         VAR(4)   Log Likelihood               -8844.960\n",
            "                          + intercept   AIC                          17731.920\n",
            "Date:                Sun, 22 Sep 2024   BIC                          17788.820\n",
            "Time:                        06:13:28   HQIC                         17755.003\n",
            "Sample:                    01-01-1959                                         \n",
            "                         - 07-01-1986                                         \n",
            "Covariance Type:                  opg                                         \n",
            "===================================================================================\n",
            "Ljung-Box (L1) (Q):          107.95, 98.70   Jarque-Bera (JB):         15.44, 17.07\n",
            "Prob(Q):                        0.00, 0.00   Prob(JB):                   0.00, 0.00\n",
            "Heteroskedasticity (H):         0.23, 0.14   Skew:                      -0.91, 0.96\n",
            "Prob(H) (two-sided):            0.00, 0.00   Kurtosis:                   2.86, 2.96\n",
            "                          Results for equation rgnp                           \n",
            "==============================================================================\n",
            "                 coef    std err          z      P>|z|      [0.025      0.975]\n",
            "------------------------------------------------------------------------------\n",
            "intercept   2614.7915     32.990     79.259      0.000    2550.132    2679.451\n",
            "L1.rgnp       -0.9283      0.041    -22.458      0.000      -1.009      -0.847\n",
            "L1.ulc        18.6837      0.951     19.650      0.000      16.820      20.547\n",
            "L2.rgnp        1.0786      0.063     17.102      0.000       0.955       1.202\n",
            "L2.ulc         7.7817      1.139      6.835      0.000       5.550      10.013\n",
            "L3.rgnp        0.1483      0.057      2.596      0.009       0.036       0.260\n",
            "L3.ulc        -9.8689      1.339     -7.370      0.000     -12.493      -7.244\n",
            "L4.rgnp       -0.8586      0.045    -19.295      0.000      -0.946      -0.771\n",
            "L4.ulc         0.2528      0.749      0.337      0.736      -1.215       1.721\n",
            "                           Results for equation ulc                           \n",
            "==============================================================================\n",
            "                 coef    std err          z      P>|z|      [0.025      0.975]\n",
            "------------------------------------------------------------------------------\n",
            "intercept     89.5417     43.383      2.064      0.039       4.513     174.570\n",
            "L1.rgnp       -0.0952      0.050     -1.914      0.056      -0.193       0.002\n",
            "L1.ulc        -0.2891      0.400     -0.723      0.470      -1.073       0.495\n",
            "L2.rgnp       -0.0467      0.060     -0.782      0.434      -0.164       0.070\n",
            "L2.ulc         1.0283      0.659      1.560      0.119      -0.264       2.320\n",
            "L3.rgnp        0.0654      0.052      1.257      0.209      -0.037       0.167\n",
            "L3.ulc         0.5779      0.682      0.848      0.397      -0.758       1.914\n",
            "L4.rgnp        0.0231      0.040      0.572      0.567      -0.056       0.102\n",
            "L4.ulc         0.2591      0.196      1.319      0.187      -0.126       0.644\n",
            "                               Error covariance matrix                               \n",
            "=====================================================================================\n",
            "                        coef    std err          z      P>|z|      [0.025      0.975]\n",
            "-------------------------------------------------------------------------------------\n",
            "sqrt.var.rgnp        31.1517      1.716     18.150      0.000      27.788      34.516\n",
            "sqrt.cov.rgnp.ulc     3.9697      1.163      3.413      0.001       1.690       6.249\n",
            "sqrt.var.ulc          8.8853      1.811      4.906      0.000       5.336      12.435\n",
            "=====================================================================================\n",
            "\n",
            "Warnings:\n",
            "[1] Covariance matrix calculated using the outer product of gradients (complex-step).\n",
            "[2] Covariance matrix is singular or near-singular, with condition number 1.81e+16. Standard errors may be unstable.\n"
          ]
        },
        {
          "output_type": "stream",
          "name": "stderr",
          "text": [
            "/usr/local/lib/python3.10/dist-packages/statsmodels/base/model.py:607: ConvergenceWarning: Maximum Likelihood optimization failed to converge. Check mle_retvals\n",
            "  warnings.warn(\"Maximum Likelihood optimization failed to \"\n"
          ]
        }
      ]
    },
    {
      "cell_type": "code",
      "source": [
        "n_forecast=12\n",
        "forecast=model.get_prediction(start=len(train),end=len(train)+n_forecast-1)\n",
        "predictions=forecast.predicted_mean\n",
        "predictions.columns=['rgnp_prediction','ulc_prediction']\n",
        "predictions.head()"
      ],
      "metadata": {
        "colab": {
          "base_uri": "https://localhost:8080/",
          "height": 206
        },
        "id": "CO_u4oGJXQ6Q",
        "outputId": "ce119b19-b3e8-427d-a639-35372a047e0f"
      },
      "execution_count": 23,
      "outputs": [
        {
          "output_type": "execute_result",
          "data": {
            "text/plain": [
              "            rgnp_prediction  ulc_prediction\n",
              "1986-10-01      3481.420617      154.424111\n",
              "1987-01-01      3338.082360      184.977132\n",
              "1987-04-01      3651.523239      185.548332\n",
              "1987-07-01      3579.651616      169.731272\n",
              "1987-10-01      3564.674112      165.716315"
            ],
            "text/html": [
              "\n",
              "  <div id=\"df-ac559461-9fa4-4b56-9ebe-371b78b399f5\" class=\"colab-df-container\">\n",
              "    <div>\n",
              "<style scoped>\n",
              "    .dataframe tbody tr th:only-of-type {\n",
              "        vertical-align: middle;\n",
              "    }\n",
              "\n",
              "    .dataframe tbody tr th {\n",
              "        vertical-align: top;\n",
              "    }\n",
              "\n",
              "    .dataframe thead th {\n",
              "        text-align: right;\n",
              "    }\n",
              "</style>\n",
              "<table border=\"1\" class=\"dataframe\">\n",
              "  <thead>\n",
              "    <tr style=\"text-align: right;\">\n",
              "      <th></th>\n",
              "      <th>rgnp_prediction</th>\n",
              "      <th>ulc_prediction</th>\n",
              "    </tr>\n",
              "  </thead>\n",
              "  <tbody>\n",
              "    <tr>\n",
              "      <th>1986-10-01</th>\n",
              "      <td>3481.420617</td>\n",
              "      <td>154.424111</td>\n",
              "    </tr>\n",
              "    <tr>\n",
              "      <th>1987-01-01</th>\n",
              "      <td>3338.082360</td>\n",
              "      <td>184.977132</td>\n",
              "    </tr>\n",
              "    <tr>\n",
              "      <th>1987-04-01</th>\n",
              "      <td>3651.523239</td>\n",
              "      <td>185.548332</td>\n",
              "    </tr>\n",
              "    <tr>\n",
              "      <th>1987-07-01</th>\n",
              "      <td>3579.651616</td>\n",
              "      <td>169.731272</td>\n",
              "    </tr>\n",
              "    <tr>\n",
              "      <th>1987-10-01</th>\n",
              "      <td>3564.674112</td>\n",
              "      <td>165.716315</td>\n",
              "    </tr>\n",
              "  </tbody>\n",
              "</table>\n",
              "</div>\n",
              "    <div class=\"colab-df-buttons\">\n",
              "\n",
              "  <div class=\"colab-df-container\">\n",
              "    <button class=\"colab-df-convert\" onclick=\"convertToInteractive('df-ac559461-9fa4-4b56-9ebe-371b78b399f5')\"\n",
              "            title=\"Convert this dataframe to an interactive table.\"\n",
              "            style=\"display:none;\">\n",
              "\n",
              "  <svg xmlns=\"http://www.w3.org/2000/svg\" height=\"24px\" viewBox=\"0 -960 960 960\">\n",
              "    <path d=\"M120-120v-720h720v720H120Zm60-500h600v-160H180v160Zm220 220h160v-160H400v160Zm0 220h160v-160H400v160ZM180-400h160v-160H180v160Zm440 0h160v-160H620v160ZM180-180h160v-160H180v160Zm440 0h160v-160H620v160Z\"/>\n",
              "  </svg>\n",
              "    </button>\n",
              "\n",
              "  <style>\n",
              "    .colab-df-container {\n",
              "      display:flex;\n",
              "      gap: 12px;\n",
              "    }\n",
              "\n",
              "    .colab-df-convert {\n",
              "      background-color: #E8F0FE;\n",
              "      border: none;\n",
              "      border-radius: 50%;\n",
              "      cursor: pointer;\n",
              "      display: none;\n",
              "      fill: #1967D2;\n",
              "      height: 32px;\n",
              "      padding: 0 0 0 0;\n",
              "      width: 32px;\n",
              "    }\n",
              "\n",
              "    .colab-df-convert:hover {\n",
              "      background-color: #E2EBFA;\n",
              "      box-shadow: 0px 1px 2px rgba(60, 64, 67, 0.3), 0px 1px 3px 1px rgba(60, 64, 67, 0.15);\n",
              "      fill: #174EA6;\n",
              "    }\n",
              "\n",
              "    .colab-df-buttons div {\n",
              "      margin-bottom: 4px;\n",
              "    }\n",
              "\n",
              "    [theme=dark] .colab-df-convert {\n",
              "      background-color: #3B4455;\n",
              "      fill: #D2E3FC;\n",
              "    }\n",
              "\n",
              "    [theme=dark] .colab-df-convert:hover {\n",
              "      background-color: #434B5C;\n",
              "      box-shadow: 0px 1px 3px 1px rgba(0, 0, 0, 0.15);\n",
              "      filter: drop-shadow(0px 1px 2px rgba(0, 0, 0, 0.3));\n",
              "      fill: #FFFFFF;\n",
              "    }\n",
              "  </style>\n",
              "\n",
              "    <script>\n",
              "      const buttonEl =\n",
              "        document.querySelector('#df-ac559461-9fa4-4b56-9ebe-371b78b399f5 button.colab-df-convert');\n",
              "      buttonEl.style.display =\n",
              "        google.colab.kernel.accessAllowed ? 'block' : 'none';\n",
              "\n",
              "      async function convertToInteractive(key) {\n",
              "        const element = document.querySelector('#df-ac559461-9fa4-4b56-9ebe-371b78b399f5');\n",
              "        const dataTable =\n",
              "          await google.colab.kernel.invokeFunction('convertToInteractive',\n",
              "                                                    [key], {});\n",
              "        if (!dataTable) return;\n",
              "\n",
              "        const docLinkHtml = 'Like what you see? Visit the ' +\n",
              "          '<a target=\"_blank\" href=https://colab.research.google.com/notebooks/data_table.ipynb>data table notebook</a>'\n",
              "          + ' to learn more about interactive tables.';\n",
              "        element.innerHTML = '';\n",
              "        dataTable['output_type'] = 'display_data';\n",
              "        await google.colab.output.renderOutput(dataTable, element);\n",
              "        const docLink = document.createElement('div');\n",
              "        docLink.innerHTML = docLinkHtml;\n",
              "        element.appendChild(docLink);\n",
              "      }\n",
              "    </script>\n",
              "  </div>\n",
              "\n",
              "\n",
              "<div id=\"df-4762c7bd-dca7-4063-91f2-a88c1a40a9b9\">\n",
              "  <button class=\"colab-df-quickchart\" onclick=\"quickchart('df-4762c7bd-dca7-4063-91f2-a88c1a40a9b9')\"\n",
              "            title=\"Suggest charts\"\n",
              "            style=\"display:none;\">\n",
              "\n",
              "<svg xmlns=\"http://www.w3.org/2000/svg\" height=\"24px\"viewBox=\"0 0 24 24\"\n",
              "     width=\"24px\">\n",
              "    <g>\n",
              "        <path d=\"M19 3H5c-1.1 0-2 .9-2 2v14c0 1.1.9 2 2 2h14c1.1 0 2-.9 2-2V5c0-1.1-.9-2-2-2zM9 17H7v-7h2v7zm4 0h-2V7h2v10zm4 0h-2v-4h2v4z\"/>\n",
              "    </g>\n",
              "</svg>\n",
              "  </button>\n",
              "\n",
              "<style>\n",
              "  .colab-df-quickchart {\n",
              "      --bg-color: #E8F0FE;\n",
              "      --fill-color: #1967D2;\n",
              "      --hover-bg-color: #E2EBFA;\n",
              "      --hover-fill-color: #174EA6;\n",
              "      --disabled-fill-color: #AAA;\n",
              "      --disabled-bg-color: #DDD;\n",
              "  }\n",
              "\n",
              "  [theme=dark] .colab-df-quickchart {\n",
              "      --bg-color: #3B4455;\n",
              "      --fill-color: #D2E3FC;\n",
              "      --hover-bg-color: #434B5C;\n",
              "      --hover-fill-color: #FFFFFF;\n",
              "      --disabled-bg-color: #3B4455;\n",
              "      --disabled-fill-color: #666;\n",
              "  }\n",
              "\n",
              "  .colab-df-quickchart {\n",
              "    background-color: var(--bg-color);\n",
              "    border: none;\n",
              "    border-radius: 50%;\n",
              "    cursor: pointer;\n",
              "    display: none;\n",
              "    fill: var(--fill-color);\n",
              "    height: 32px;\n",
              "    padding: 0;\n",
              "    width: 32px;\n",
              "  }\n",
              "\n",
              "  .colab-df-quickchart:hover {\n",
              "    background-color: var(--hover-bg-color);\n",
              "    box-shadow: 0 1px 2px rgba(60, 64, 67, 0.3), 0 1px 3px 1px rgba(60, 64, 67, 0.15);\n",
              "    fill: var(--button-hover-fill-color);\n",
              "  }\n",
              "\n",
              "  .colab-df-quickchart-complete:disabled,\n",
              "  .colab-df-quickchart-complete:disabled:hover {\n",
              "    background-color: var(--disabled-bg-color);\n",
              "    fill: var(--disabled-fill-color);\n",
              "    box-shadow: none;\n",
              "  }\n",
              "\n",
              "  .colab-df-spinner {\n",
              "    border: 2px solid var(--fill-color);\n",
              "    border-color: transparent;\n",
              "    border-bottom-color: var(--fill-color);\n",
              "    animation:\n",
              "      spin 1s steps(1) infinite;\n",
              "  }\n",
              "\n",
              "  @keyframes spin {\n",
              "    0% {\n",
              "      border-color: transparent;\n",
              "      border-bottom-color: var(--fill-color);\n",
              "      border-left-color: var(--fill-color);\n",
              "    }\n",
              "    20% {\n",
              "      border-color: transparent;\n",
              "      border-left-color: var(--fill-color);\n",
              "      border-top-color: var(--fill-color);\n",
              "    }\n",
              "    30% {\n",
              "      border-color: transparent;\n",
              "      border-left-color: var(--fill-color);\n",
              "      border-top-color: var(--fill-color);\n",
              "      border-right-color: var(--fill-color);\n",
              "    }\n",
              "    40% {\n",
              "      border-color: transparent;\n",
              "      border-right-color: var(--fill-color);\n",
              "      border-top-color: var(--fill-color);\n",
              "    }\n",
              "    60% {\n",
              "      border-color: transparent;\n",
              "      border-right-color: var(--fill-color);\n",
              "    }\n",
              "    80% {\n",
              "      border-color: transparent;\n",
              "      border-right-color: var(--fill-color);\n",
              "      border-bottom-color: var(--fill-color);\n",
              "    }\n",
              "    90% {\n",
              "      border-color: transparent;\n",
              "      border-bottom-color: var(--fill-color);\n",
              "    }\n",
              "  }\n",
              "</style>\n",
              "\n",
              "  <script>\n",
              "    async function quickchart(key) {\n",
              "      const quickchartButtonEl =\n",
              "        document.querySelector('#' + key + ' button');\n",
              "      quickchartButtonEl.disabled = true;  // To prevent multiple clicks.\n",
              "      quickchartButtonEl.classList.add('colab-df-spinner');\n",
              "      try {\n",
              "        const charts = await google.colab.kernel.invokeFunction(\n",
              "            'suggestCharts', [key], {});\n",
              "      } catch (error) {\n",
              "        console.error('Error during call to suggestCharts:', error);\n",
              "      }\n",
              "      quickchartButtonEl.classList.remove('colab-df-spinner');\n",
              "      quickchartButtonEl.classList.add('colab-df-quickchart-complete');\n",
              "    }\n",
              "    (() => {\n",
              "      let quickchartButtonEl =\n",
              "        document.querySelector('#df-4762c7bd-dca7-4063-91f2-a88c1a40a9b9 button');\n",
              "      quickchartButtonEl.style.display =\n",
              "        google.colab.kernel.accessAllowed ? 'block' : 'none';\n",
              "    })();\n",
              "  </script>\n",
              "</div>\n",
              "\n",
              "    </div>\n",
              "  </div>\n"
            ],
            "application/vnd.google.colaboratory.intrinsic+json": {
              "type": "dataframe",
              "variable_name": "predictions",
              "summary": "{\n  \"name\": \"predictions\",\n  \"rows\": 12,\n  \"fields\": [\n    {\n      \"column\": \"rgnp_prediction\",\n      \"properties\": {\n        \"dtype\": \"number\",\n        \"std\": 91.91581473483582,\n        \"min\": 3338.082359953991,\n        \"max\": 3669.7441510939243,\n        \"num_unique_values\": 12,\n        \"samples\": [\n          3632.5491937480183,\n          3521.5283612984977,\n          3481.4206170772513\n        ],\n        \"semantic_type\": \"\",\n        \"description\": \"\"\n      }\n    },\n    {\n      \"column\": \"ulc_prediction\",\n      \"properties\": {\n        \"dtype\": \"number\",\n        \"std\": 8.722382357762223,\n        \"min\": 154.42411075865834,\n        \"max\": 185.54833193428158,\n        \"num_unique_values\": 12,\n        \"samples\": [\n          171.3953891129661,\n          179.57252612366688,\n          154.42411075865834\n        ],\n        \"semantic_type\": \"\",\n        \"description\": \"\"\n      }\n    }\n  ]\n}"
            }
          },
          "metadata": {},
          "execution_count": 23
        }
      ]
    },
    {
      "cell_type": "code",
      "source": [
        "plt.plot(predictions['rgnp_prediction'])\n",
        "plt.plot(test['rgnp'])\n",
        "plt.legend(['prediction','real'])"
      ],
      "metadata": {
        "colab": {
          "base_uri": "https://localhost:8080/",
          "height": 452
        },
        "id": "KT-sRD4ZYXCo",
        "outputId": "cf0807fd-9d97-4bfd-cfd7-da5262972604"
      },
      "execution_count": 27,
      "outputs": [
        {
          "output_type": "execute_result",
          "data": {
            "text/plain": [
              "<matplotlib.legend.Legend at 0x7a1643d37190>"
            ]
          },
          "metadata": {},
          "execution_count": 27
        },
        {
          "output_type": "display_data",
          "data": {
            "text/plain": [
              "<Figure size 640x480 with 1 Axes>"
            ],
            "image/png": "[encoded data removed]"
          },
          "metadata": {}
        }
      ]
    },
    {
      "cell_type": "code",
      "source": [
        "plt.plot(predictions['ulc_prediction'])\n",
        "plt.plot(test['ulc'])\n",
        "plt.legend(['prediction','real'])"
      ],
      "metadata": {
        "colab": {
          "base_uri": "https://localhost:8080/",
          "height": 448
        },
        "id": "avXOK1EXYpLY",
        "outputId": "49938f86-91f7-43e2-b368-4b72258a2d74"
      },
      "execution_count": 28,
      "outputs": [
        {
          "output_type": "execute_result",
          "data": {
            "text/plain": [
              "<matplotlib.legend.Legend at 0x7a1644596980>"
            ]
          },
          "metadata": {},
          "execution_count": 28
        },
        {
          "output_type": "display_data",
          "data": {
            "text/plain": [
              "<Figure size 640x480 with 1 Axes>"
            ],
            "image/png": "[encoded data removed]"
          },
          "metadata": {}
        }
      ]
    },
    {
      "cell_type": "code",
      "source": [
        "from sklearn.metrics import mean_squared_error\n",
        "from math import sqrt\n",
        "rms_rgnp=sqrt(mean_squared_error(predictions['rgnp_prediction'],test['rgnp']))\n",
        "rms_ulc=sqrt(mean_squared_error(predictions['ulc_prediction'],test['ulc']))\n",
        "mean_rgnp=np.mean(test['rgnp'])\n",
        "mean_ulc=np.mean(test['ulc'])\n",
        "print(mean_rgnp,\" \",rms_rgnp)\n",
        "print(mean_ulc,\" \",rms_ulc)"
      ],
      "metadata": {
        "colab": {
          "base_uri": "https://localhost:8080/"
        },
        "id": "JbFirJfqY_nP",
        "outputId": "a9abdbc1-67e1-440b-b986-0e99e2edaf1e"
      },
      "execution_count": 33,
      "outputs": [
        {
          "output_type": "stream",
          "name": "stdout",
          "text": [
            "3970.691666666667   454.6461161424029\n",
            "178.56666666666663   10.94446679061537\n"
          ]
        }
      ]
    },
    {
      "cell_type": "code",
      "source": [],
      "metadata": {
        "id": "Rh9xGpukZU4I"
      },
      "execution_count": null,
      "outputs": []
    }
  ]
}